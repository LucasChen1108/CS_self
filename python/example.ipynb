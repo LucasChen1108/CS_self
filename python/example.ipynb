{
 "cells": [
  {
   "cell_type": "code",
   "execution_count": 2,
   "id": "af9b6ada",
   "metadata": {},
   "outputs": [
    {
     "name": "stdout",
     "output_type": "stream",
     "text": [
      "Hello, Data Science!\n"
     ]
    }
   ],
   "source": [
    "print(\"Hello, Data Science!\")\n"
   ]
  },
  {
   "cell_type": "code",
   "execution_count": 4,
   "id": "5bfde9b9",
   "metadata": {},
   "outputs": [
    {
     "name": "stdout",
     "output_type": "stream",
     "text": [
      "NumPy 数组： [10 20 30 40 50]\n",
      "\n",
      "Pandas DataFrame:\n",
      "        名字  年龄     工资\n",
      "0    Alice  24  50000\n",
      "1      Bob  30  60000\n",
      "2  Charlie  22  45000\n",
      "3    David  35  70000\n",
      "\n",
      "平均年龄: 27.75\n",
      "\n",
      "添加高薪列后的 DataFrame:\n",
      "        名字  年龄     工资     高薪\n",
      "0    Alice  24  50000  False\n",
      "1      Bob  30  60000   True\n",
      "2  Charlie  22  45000  False\n",
      "3    David  35  70000   True\n"
     ]
    }
   ],
   "source": [
    "# 标题：数据科学入门示例\n",
    "\n",
    "# 导入库\n",
    "import numpy as np\n",
    "import pandas as pd\n",
    "\n",
    "# 创建一个 NumPy 数组\n",
    "arr = np.array([10, 20, 30, 40, 50])\n",
    "print(\"NumPy 数组：\", arr)\n",
    "\n",
    "# 创建一个简单的 Pandas DataFrame\n",
    "data = {\n",
    "    '名字': ['Alice', 'Bob', 'Charlie', 'David'],\n",
    "    '年龄': [24, 30, 22, 35],\n",
    "    '工资': [50000, 60000, 45000, 70000]\n",
    "}\n",
    "df = pd.DataFrame(data)\n",
    "\n",
    "print(\"\\nPandas DataFrame:\")\n",
    "print(df)\n",
    "\n",
    "# 计算平均年龄\n",
    "avg_age = df['年龄'].mean()\n",
    "print(f\"\\n平均年龄: {avg_age}\")\n",
    "\n",
    "# 给 DataFrame 增加一列，显示工资是否超过 55000\n",
    "df['高薪'] = df['工资'] > 55000\n",
    "print(\"\\n添加高薪列后的 DataFrame:\")\n",
    "print(df)\n"
   ]
  }
 ],
 "metadata": {
  "kernelspec": {
   "display_name": "venv",
   "language": "python",
   "name": "python3"
  },
  "language_info": {
   "codemirror_mode": {
    "name": "ipython",
    "version": 3
   },
   "file_extension": ".py",
   "mimetype": "text/x-python",
   "name": "python",
   "nbconvert_exporter": "python",
   "pygments_lexer": "ipython3",
   "version": "3.13.3"
  }
 },
 "nbformat": 4,
 "nbformat_minor": 5
}
